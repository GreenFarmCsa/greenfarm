{
 "cells": [
  {
   "cell_type": "code",
   "execution_count": 1,
   "metadata": {},
   "outputs": [
    {
     "data": {
      "text/html": [
       "<div>\n",
       "<style scoped>\n",
       "    .dataframe tbody tr th:only-of-type {\n",
       "        vertical-align: middle;\n",
       "    }\n",
       "\n",
       "    .dataframe tbody tr th {\n",
       "        vertical-align: top;\n",
       "    }\n",
       "\n",
       "    .dataframe thead th {\n",
       "        text-align: right;\n",
       "    }\n",
       "</style>\n",
       "<table border=\"1\" class=\"dataframe\">\n",
       "  <thead>\n",
       "    <tr style=\"text-align: right;\">\n",
       "      <th></th>\n",
       "      <th>username</th>\n",
       "      <th>community_id</th>\n",
       "      <th>location</th>\n",
       "      <th>carbon_credit</th>\n",
       "      <th>carbon_medals</th>\n",
       "      <th>comment_products</th>\n",
       "      <th>farm_location</th>\n",
       "      <th>suited_product</th>\n",
       "      <th>rent_period</th>\n",
       "      <th>total_area</th>\n",
       "      <th>idle_area</th>\n",
       "      <th>recommend</th>\n",
       "    </tr>\n",
       "  </thead>\n",
       "  <tbody>\n",
       "    <tr>\n",
       "      <th>0</th>\n",
       "      <td>cfcd208495d565ef66e7dff9f98764da</td>\n",
       "      <td>c1/c2/c3</td>\n",
       "      <td>Alaska/AK</td>\n",
       "      <td>1806</td>\n",
       "      <td>NaN</td>\n",
       "      <td>/p1/p2/p3/p4/p5/p6/p7</td>\n",
       "      <td>Delaware/DE</td>\n",
       "      <td>/p1/p2/p3/p4/p5/p6/p7</td>\n",
       "      <td>93</td>\n",
       "      <td>1905</td>\n",
       "      <td>1688</td>\n",
       "      <td>0</td>\n",
       "    </tr>\n",
       "  </tbody>\n",
       "</table>\n",
       "</div>"
      ],
      "text/plain": [
       "                           username community_id   location  carbon_credit  \\\n",
       "0  cfcd208495d565ef66e7dff9f98764da     c1/c2/c3  Alaska/AK           1806   \n",
       "\n",
       "  carbon_medals       comment_products farm_location         suited_product  \\\n",
       "0           NaN  /p1/p2/p3/p4/p5/p6/p7   Delaware/DE  /p1/p2/p3/p4/p5/p6/p7   \n",
       "\n",
       "   rent_period  total_area  idle_area  recommend  \n",
       "0           93        1905       1688          0  "
      ]
     },
     "execution_count": 1,
     "metadata": {},
     "output_type": "execute_result"
    }
   ],
   "source": [
    "#read file\n",
    "import os, types\n",
    "import pandas as pd\n",
    "import numpy as np\n",
    "import sklearn.metrics\n",
    "from botocore.client import Config\n",
    "import ibm_boto3\n",
    "\n",
    "def __iter__(self): return 0\n",
    "\n",
    "# @hidden_cell\n",
    "# The following code accesses a file in your IBM Cloud Object Storage. It includes your credentials.\n",
    "# You might want to remove those credentials before you share the notebook.\n",
    "\n",
    "if os.environ.get('RUNTIME_ENV_LOCATION_TYPE') == 'external':\n",
    "    endpoint_9e53905096384939a3b02eee24cc81a3 = 'https://s3.us.cloud-object-storage.appdomain.cloud'\n",
    "else:\n",
    "    endpoint_9e53905096384939a3b02eee24cc81a3 = 'https://s3.private.us.cloud-object-storage.appdomain.cloud'\n",
    "\n",
    "client_9e53905096384939a3b02eee24cc81a3 = ibm_boto3.client(service_name='s3',\n",
    "    ibm_api_key_id='Your_api_key',\n",
    "    ibm_auth_endpoint=\"https://iam.cloud.ibm.com/oidc/token\",\n",
    "    config=Config(signature_version='oauth'),\n",
    "    endpoint_url=endpoint_9e53905096384939a3b02eee24cc81a3)\n",
    "\n",
    "body = client_9e53905096384939a3b02eee24cc81a3.get_object(Bucket='jupiterenergypaymentplancampaign-donotdelete-pr-4mtst9zqeqmfqs',Key='farm_recommendation.csv')['Body']\n",
    "# add missing __iter__ method, so pandas accepts body as file-like object\n",
    "if not hasattr(body, \"__iter__\"): body.__iter__ = types.MethodType( __iter__, body )\n",
    "\n",
    "farm_recommendation_data = pd.read_csv(body)\n",
    "farm_recommendation_data.head(1)\n"
   ]
  },
  {
   "cell_type": "code",
   "execution_count": 2,
   "metadata": {},
   "outputs": [],
   "source": [
    "import pandas.api.types as tp\n",
    "import numpy as np\n",
    "\n",
    "'''\n",
    "only select province/state from location data\n",
    "'''\n",
    "def preprocessing_location(csv_data):\n",
    "    for i, row in csv_data.iterrows():\n",
    "        user_location = row['location']\n",
    "        state = user_location.split('/')[-1]\n",
    "        farm_location = row['farm_location']\n",
    "        farm = farm_location.split('/')[-1]\n",
    "        csv_data.at[i, 'location'] = state\n",
    "        csv_data.at[i, 'farm_location'] = farm\n",
    "    return csv_data\n",
    "\n",
    "'''\n",
    "count all category values for a column \n",
    "'''\n",
    "def aggregate_data(csv_data, header):\n",
    "    res = set()\n",
    "    for i, row in csv_data.iterrows():\n",
    "        data = row[header]\n",
    "        if type(data) == float and pd.isna(data):\n",
    "            continue\n",
    "        category = data.split('/')\n",
    "        for c in category:\n",
    "            res.add(c)\n",
    "        row[header] = category\n",
    "    res = sorted(list(set(res)))\n",
    "    return res, csv_data\n",
    "\n",
    "'''\n",
    "count location value frequency\n",
    "'''\n",
    "def aggregate_location(csv_data, header):\n",
    "    res = {}\n",
    "    count = 0\n",
    "    for i, row in csv_data.iterrows():\n",
    "        data = row[header]\n",
    "        if data not in res.keys():\n",
    "            res[data] = count\n",
    "            count += 1\n",
    "    return res"
   ]
  },
  {
   "cell_type": "code",
   "execution_count": 3,
   "metadata": {},
   "outputs": [],
   "source": [
    "csv_data = preprocessing_location(farm_recommendation_data)\n",
    "location_dictionary = aggregate_location(csv_data, 'location')\n",
    "community, csv_data = aggregate_data(csv_data, 'community_id')\n",
    "comment_product, csv_data = aggregate_data(csv_data, 'comment_products')\n",
    "medals, csv_data = aggregate_data(csv_data, 'carbon_medals')"
   ]
  },
  {
   "cell_type": "code",
   "execution_count": 4,
   "metadata": {},
   "outputs": [],
   "source": [
    "'''\n",
    "one_hot_encoding algorithm\n",
    "'''\n",
    "def one_hot_encoding(list_data, aggregate_data):\n",
    "    encoding = \"\"\n",
    "    if type(list_data) == float and pd.isna(list_data):\n",
    "        return encoding\n",
    "    for element in aggregate_data:\n",
    "        if element in list_data:\n",
    "            encoding = encoding + '1'\n",
    "        else:\n",
    "            encoding = encoding + '0'\n",
    "    return int(encoding)\n",
    "\n",
    "'''\n",
    "apply one-hot-encoding to given column\n",
    "'''\n",
    "def apply_encoding(csv_data, header, aggregate):\n",
    "    for i, row in csv_data.iterrows():\n",
    "        raw = row[header]\n",
    "        encoding = one_hot_encoding(raw, aggregate)\n",
    "        csv_data.at[i, header] = encoding\n",
    "    return csv_data\n",
    "\n",
    "'''\n",
    "apply one-hot-encoding to location column\n",
    "'''\n",
    "def apply_location_encoding(csv_data):\n",
    "    for i, row in csv_data.iterrows():\n",
    "        location = row['location']\n",
    "        farm_location = row['farm_location']\n",
    "        csv_data.at[i, 'location'] = location_dictionary[location]\n",
    "        csv_data.at[i, 'farm_location'] = location_dictionary[farm_location]\n",
    "    return csv_data\n",
    "\n",
    "'''\n",
    "standardize numerical variable\n",
    "'''\n",
    "def standardlize(csv_data, header):\n",
    "    mean = csv_data[header].mean()\n",
    "    sd = csv_data[header].std()\n",
    "    for i, row in csv_data.iterrows():\n",
    "        rent = row[header]\n",
    "        standard = (rent - mean) / sd\n",
    "        csv_data.at[i, header] = standard\n",
    "    return csv_data\n",
    "\n",
    "'''\n",
    "fill missing values with mode\n",
    "'''\n",
    "def fill_with_mode(csv_data, community_mode, medals_mode, comment_mode, location_mode):\n",
    "    for i, row in csv_data.iterrows():\n",
    "        if row['community_id'] == '':\n",
    "            csv_data.at[i, 'community_id'] = community_mode\n",
    "        if row['carbon_medals'] == '':\n",
    "            csv_data.at[i, 'carbon_medals'] = medals_mode\n",
    "        if row['comment_products'] == '':\n",
    "            csv_data.at[i, 'comment_products'] = comment_mode\n",
    "        if row['suited_product'] == '':\n",
    "            csv_data.at[i, 'suited_product'] = comment_mode\n",
    "        if row['location'] == '':\n",
    "            csv_data.at[i, 'location'] = location_mode\n",
    "        if row['farm_location'] == '':\n",
    "            csv_data.at[i, 'farm_location'] = location_mode\n",
    "    return csv_data\n",
    "\n",
    "'''\n",
    "loop through a given column\n",
    "'''\n",
    "def loop_data(csv_data, attribute):\n",
    "    for i, row in csv_data.iterrows():\n",
    "        print(row[attribute])"
   ]
  },
  {
   "cell_type": "code",
   "execution_count": 5,
   "metadata": {},
   "outputs": [],
   "source": [
    "csv_data = apply_encoding(csv_data, 'community_id', community) \n",
    "csv_data = apply_encoding(csv_data, 'carbon_medals', medals)\n",
    "csv_data = apply_encoding(csv_data, 'comment_products', comment_product)\n",
    "csv_data = apply_encoding(csv_data, 'suited_product', comment_product)\n",
    "csv_data = apply_location_encoding(csv_data)\n",
    "\n",
    "community_mode = 0\n",
    "medals_mode = csv_data['carbon_medals'].mode()\n",
    "comment_mode = 0\n",
    "location_mode = csv_data['location'].mode()\n",
    "csv_data = fill_with_mode(csv_data, community_mode, medals_mode, comment_mode, location_mode)\n",
    "csv_data['community_id'] = csv_data['community_id'].astype(int)\n",
    "# print(csv_data['community_id'].dtypes)\n",
    "csv_data['location'] = csv_data['location'].astype(int)\n",
    "csv_data['carbon_medals'] = csv_data['carbon_medals'].astype(int)\n",
    "csv_data['comment_products'] = csv_data['comment_products'].astype(int)\n",
    "csv_data['farm_location'] = csv_data['farm_location'].astype(int)\n",
    "csv_data['suited_product'] = csv_data['suited_product'].astype(int)"
   ]
  },
  {
   "cell_type": "code",
   "execution_count": 184,
   "metadata": {},
   "outputs": [],
   "source": [
    "from sklearn.model_selection import train_test_split\n",
    "from sklearn.metrics import accuracy_score\n",
    "from xgboost import XGBClassifier\n",
    "def train_model(csv_data, test_size, random_state):\n",
    "    Y = csv_data['recommend']\n",
    "    csv_data = csv_data.drop(['recommend', 'username'], axis = 1)\n",
    "    X_train, X_test, y_train, y_test = train_test_split(csv_data, Y, test_size = test_size, random_state = random_state)\n",
    "    model = XGBClassifier(objective = 'binary:logitraw')\n",
    "    model.fit(X_train, y_train)\n",
    "    return model, X_train\n",
    "model, X_train = train_model(csv_data, 0.33, 7)"
   ]
  },
  {
   "cell_type": "code",
   "execution_count": 6,
   "metadata": {},
   "outputs": [],
   "source": [
    "'''\n",
    "aggregate on farm and user rent relationship\n",
    "'''\n",
    "def get_user_farm_dict(gf_rent):\n",
    "    user_farm_dic = {}\n",
    "    farm_dic = {}\n",
    "    farm_sequence = 0\n",
    "    for i, row in gf_rent.iterrows():\n",
    "        farm = row['farm_id']\n",
    "        user = row['username']\n",
    "        if user not in user_farm_dic.keys():\n",
    "            user_farm_dic[user] = []\n",
    "        user_farm_dic[user].append(farm)\n",
    "        if farm not in farm_dic.keys():\n",
    "            farm_dic[farm] = farm_sequence\n",
    "            farm_sequence = farm_sequence + 1\n",
    "    return user_farm_dic, farm_dic"
   ]
  },
  {
   "cell_type": "code",
   "execution_count": 7,
   "metadata": {},
   "outputs": [],
   "source": [
    "'''\n",
    "calculate cosine similarity\n",
    "'''\n",
    "def calculate_similarity(user_farm_matrix):\n",
    "    return sklearn.metrics.pairwise.cosine_similarity(user_farm_matrix)\n",
    "\n",
    "'''\n",
    "calculate user similarity\n",
    "'''\n",
    "def get_similar_user(given_user, user_farm_matrix, user_dic):\n",
    "    user = user_dic[given_user]\n",
    "    user_matrix = user_farm_matrix[user]\n",
    "    sim_dic = {}\n",
    "    similarity_score = calculate_similarity(user_farm_matrix)[user]\n",
    "    for i in range(0, len(similarity_score)):\n",
    "        if i != user:\n",
    "            score = similarity_score[i]\n",
    "            if score not in sim_dic:\n",
    "                sim_dic[score] = []\n",
    "            sim_dic[score].append(i)\n",
    "    sorted_similarity_score = sorted(sim_dic.keys(), reverse = True)\n",
    "    similar_user = []\n",
    "    for i in range(0, min(3, len(sorted_similarity_score))):\n",
    "        score = sorted_similarity_score[i]\n",
    "        for j in range(0, len(sim_dic[score])):\n",
    "            similar_user.append(sim_dic[score][j])\n",
    "    return similar_user\n"
   ]
  },
  {
   "cell_type": "code",
   "execution_count": 8,
   "metadata": {},
   "outputs": [],
   "source": [
    "\n",
    "def get_user_matrix(user_farm_dic, gf_rent_data, farms):\n",
    "    num_user = len(user_farm_dic.keys())\n",
    "    num_farm = len(farms.keys())\n",
    "    user_sequence = 0\n",
    "    user_dic = {}\n",
    "    user_farm_matrix = np.ndarray(shape = (num_user, num_farm), dtype = int)\n",
    "    user_farm_matrix.fill(0)\n",
    "    for user in user_farm_dic.keys():\n",
    "        for f in user_farm_dic[user]:\n",
    "            farm_number = farms[f]\n",
    "            user_farm_matrix[user_sequence][farm_number] = 1\n",
    "        user_dic[user] = user_sequence\n",
    "        user_sequence = user_sequence + 1\n",
    "    return user_farm_matrix, user_dic"
   ]
  },
  {
   "cell_type": "code",
   "execution_count": 9,
   "metadata": {},
   "outputs": [],
   "source": [
    "\n",
    "def get_recall_set(user_farm_matrix, similar_user, given_user, user_dic):\n",
    "    farm_not_rent = []\n",
    "    user_number = user_dic[given_user]\n",
    "    for user in similar_user:\n",
    "        user_matrix = user_farm_matrix[user]\n",
    "        for i in range(0, len(user_matrix)):\n",
    "            rent = user_matrix[i]\n",
    "            user_rent = user_farm_matrix[user_number][i]\n",
    "            if user_rent == 0 and rent == 1:\n",
    "                farm_not_rent.append(i)\n",
    "    return farm_not_rent \n",
    "def check_user_rent(gf_rent, given_user):\n",
    "    user_rent = gf_rent[gf_rent['username'] == given_user]\n",
    "    #need to check if the cell is NA/null/empty string\n",
    "    if not user_rent['farm_id'].empty:\n",
    "        return True\n",
    "    return False"
   ]
  },
  {
   "cell_type": "code",
   "execution_count": 12,
   "metadata": {},
   "outputs": [],
   "source": [
    "body = client_9e53905096384939a3b02eee24cc81a3.get_object(Bucket='jupiterenergypaymentplancampaign-donotdelete-pr-4mtst9zqeqmfqs',Key='farm_rent.csv')['Body']\n",
    "# add missing __iter__ method, so pandas accepts body as file-like object\n",
    "if not hasattr(body, \"__iter__\"): body.__iter__ = types.MethodType( __iter__, body )\n",
    "\n",
    "farm_rent = pd.read_csv(body)"
   ]
  },
  {
   "cell_type": "code",
   "execution_count": 13,
   "metadata": {},
   "outputs": [],
   "source": [
    "#preprocessing the farm rent\n",
    "user_farm_dic, farms = get_user_farm_dict(farm_rent)"
   ]
  },
  {
   "cell_type": "code",
   "execution_count": 14,
   "metadata": {},
   "outputs": [],
   "source": [
    "user_farm_matrix, user_dic = get_user_matrix(user_farm_dic, farm_rent, farms)"
   ]
  },
  {
   "cell_type": "code",
   "execution_count": 15,
   "metadata": {},
   "outputs": [
    {
     "name": "stdout",
     "output_type": "stream",
     "text": [
      "[1]\n"
     ]
    }
   ],
   "source": [
    "similar_user = get_similar_user(1234, user_farm_matrix, user_dic)"
   ]
  },
  {
   "cell_type": "code",
   "execution_count": null,
   "metadata": {},
   "outputs": [],
   "source": [
    "json_obj = {}\n",
    "json_obj[\"username\"] = \"Jack\"\n",
    "json_obj['community_id'] = 1\n",
    "json_obj['comment_products'] = [\"Corn, Tomato\"]\n",
    "json_obj['carbon_medals'] = \"1\"\n",
    "json_obj['carbon_credit'] = 100\n",
    "json_obj['location'] = \"Queens, New York, NY, USA\"\n",
    "json_obj['rent_list'] = []\n",
    "json_obj['rent_list'].append({\n",
    "    'rent_id': '1',\n",
    "    'land_id': '1',\n",
    "    'farm_id': '1',\n",
    "    'username': 'Jack',\n",
    "    'rent_price': '0.0000',\n",
    "    'area': '100',\n",
    "    'rent_start_time': '2021-07-00:00:00',\n",
    "    'rent_end_time': '2021-07-00:00:00',\n",
    "    'confirm_crops': 'corn tomato',\n",
    "    'create_time': '2021-07-15:09:37',\n",
    "    'modify_time': '2021-07-14:32:46',\n",
    "    'farm_location': 'Austin,Texas'\n",
    "})\n",
    "json_data = json.dumps(json_obj)\n",
    "get_data = json.loads(json_data)"
   ]
  },
  {
   "cell_type": "code",
   "execution_count": 18,
   "metadata": {},
   "outputs": [],
   "source": [
    "train_attribute = ['community_id', 'location', 'carbon_credit', 'carbon_medals', 'comment_products', 'farm_location', 'suited_product', 'rent_period', 'total_area', 'idle_area']"
   ]
  },
  {
   "cell_type": "code",
   "execution_count": 19,
   "metadata": {},
   "outputs": [
    {
     "name": "stdout",
     "output_type": "stream",
     "text": [
      "   username  farm_id                 location community_id comment_products  \\\n",
      "0      1234     2263  121 5th Ave/New York/NY          A/B    potato/tomato   \n",
      "1      5678     3652  121 6th Ave/New York/NY          B/C             corn   \n",
      "\n",
      "   farm_location        suited_product  rent_period  total_area  idle_area  \\\n",
      "0  Rollingbay/WA  tomato/peas/brocoli           365          30         20   \n",
      "1    Portland/FL              cucumber          182          20         10   \n",
      "\n",
      "   carbon_credit carbon_medals  recommend  \n",
      "0            600      m1/m2/m5          1  \n",
      "1            800            m2          0  \n"
     ]
    }
   ],
   "source": [
    "farm_rent = farm_rent.rename(columns={\"community\": \"community_id\", \"user location\": \"location\", \"comment product\": \"comment_products\", \"farm location\": \"farm_location\", \"rent period\": \"rent_period\"})\n",
    "farm_rent = farm_rent.rename(columns={\"suited product\": \"suited_product\"})\n",
    "print(farm_rent.head())"
   ]
  },
  {
   "cell_type": "code",
   "execution_count": 20,
   "metadata": {},
   "outputs": [],
   "source": [
    "def farm_id_index(farm_rent):\n",
    "    dic = {}\n",
    "    for i, row in farm_rent.iterrows():\n",
    "        dic[i] = row['farm_id']\n",
    "    return dic\n",
    "farm_id_index = farm_id_index(farm_rent)"
   ]
  },
  {
   "cell_type": "code",
   "execution_count": 21,
   "metadata": {},
   "outputs": [],
   "source": [
    "#select recall set\n",
    "farm_not_rent = get_recall_set(user_farm_matrix, similar_user, 1234, user_dic)\n",
    "pd_index = []\n",
    "for index in farm_not_rent:\n",
    "    pd_index.append(farm_rent.iloc[index])\n",
    "farm_predict_set = pd.DataFrame(pd_index, columns = farm_rent.columns)"
   ]
  },
  {
   "cell_type": "code",
   "execution_count": 22,
   "metadata": {},
   "outputs": [],
   "source": [
    "predict_farm_attribute = ['farm_location', 'suited_product', 'rent_period', 'total_area', 'idle_area']\n",
    "for column in farm_predict_set.columns:\n",
    "    if column not in predict_farm_attribute:\n",
    "        farm_predict_set = farm_predict_set.drop(column, axis = 1)"
   ]
  },
  {
   "cell_type": "code",
   "execution_count": 157,
   "metadata": {},
   "outputs": [],
   "source": [
    "#check if the user did not rent any farm before\n",
    "rent_before = check_user_rent(farm_rent, 1234)"
   ]
  },
  {
   "cell_type": "code",
   "execution_count": 23,
   "metadata": {},
   "outputs": [],
   "source": [
    "#need to confirm with backend\n",
    "test_user = {'community_id': 'c1/c2', 'location': 'New York/NY', 'carbon_credit': '589', 'carbon_medals': 'm1/m2', 'comment_products': 'p1'}\n",
    "test_user = pd.DataFrame(test_user, index = [0])\n",
    "#preprocessing the test user\n",
    "def preprocess_data(csv_data, community, medals, comment_product):\n",
    "    csv_data = apply_encoding(csv_data, 'community_id', community) \n",
    "    csv_data = apply_encoding(csv_data, 'carbon_medals', medals)\n",
    "    csv_data = apply_encoding(csv_data, 'comment_products', comment_product)\n",
    "    csv_data = apply_encoding(csv_data, 'suited_product', comment_product)\n",
    "    csv_data = apply_location_encoding(csv_data)\n",
    "    community_mode = 0\n",
    "    medals_mode = csv_data['carbon_medals'].mode()\n",
    "    comment_mode = 0\n",
    "    location_mode = csv_data['location'].mode()\n",
    "    csv_data = fill_with_mode(csv_data, community_mode, medals_mode, comment_mode, location_mode)\n",
    "    csv_data['community_id'] = csv_data['community_id'].astype(int)\n",
    "    # print(csv_data['community_id'].dtypes)\n",
    "    csv_data['location'] = csv_data['location'].astype(int)\n",
    "    csv_data['carbon_medals'] = csv_data['carbon_medals'].astype(int)\n",
    "    csv_data['carbon_credit'] = csv_data['carbon_credit'].astype(int)\n",
    "    csv_data['comment_products'] = csv_data['comment_products'].astype(int)\n",
    "    csv_data['farm_location'] = csv_data['farm_location'].astype(int)\n",
    "    csv_data['suited_product'] = csv_data['suited_product'].astype(int)\n",
    "    return csv_data"
   ]
  },
  {
   "cell_type": "code",
   "execution_count": 24,
   "metadata": {},
   "outputs": [],
   "source": [
    "def preprocessing_test_user_location(csv_data):\n",
    "    for i, row in csv_data.iterrows():\n",
    "        user_location = row['location']\n",
    "        state = user_location.split('/')[-1]\n",
    "        farm_location = row['farm_location']\n",
    "        farm = user_location.split('/')[-1]\n",
    "        csv_data.at[i, 'location'] = state\n",
    "        csv_data.at[i, 'farm_location'] = farm\n",
    "    return csv_data"
   ]
  },
  {
   "cell_type": "code",
   "execution_count": 25,
   "metadata": {},
   "outputs": [],
   "source": [
    "def fill_with_test_mode(csv_data, community_mode, medals_mode, comment_mode, location_mode):\n",
    "    for i, row in csv_data.iterrows():\n",
    "        if row['community_id'] == '':\n",
    "            csv_data.at[i, 'community_id'] = community_mode\n",
    "        if row['carbon_medals'] == '':\n",
    "            csv_data.at[i, 'carbon_medals'] = medals_mode\n",
    "        if row['comment_products'] == '':\n",
    "            csv_data.at[i, 'comment_products'] = comment_mode\n",
    "        if row['location'] == '':\n",
    "            csv_data.at[i, 'location'] = location_mode\n",
    "    return csv_data"
   ]
  },
  {
   "cell_type": "code",
   "execution_count": 26,
   "metadata": {},
   "outputs": [],
   "source": [
    "def apply_test_user_location_encoding(csv_data):\n",
    "    for i, row in csv_data.iterrows():\n",
    "        location = row['location']\n",
    "        csv_data.at[i, 'location'] = location_dictionary[location]\n",
    "    return csv_data"
   ]
  },
  {
   "cell_type": "code",
   "execution_count": 27,
   "metadata": {},
   "outputs": [],
   "source": [
    "def change_index(csv_data1, farm_not_rent):\n",
    "    csv_data1 = csv_data1.rename(mapper = {csv_data1.index.values[0]: farm_not_rent}, axis = 0)\n",
    "    return csv_data1"
   ]
  },
  {
   "cell_type": "code",
   "execution_count": 28,
   "metadata": {},
   "outputs": [
    {
     "name": "stdout",
     "output_type": "stream",
     "text": [
      "  community_id     location carbon_credit carbon_medals comment_products  \\\n",
      "1        c1/c2  New York/NY           589         m1/m2               p1   \n",
      "\n",
      "  farm_location suited_product  rent_period  total_area  idle_area  \n",
      "1   Portland/FL       cucumber          182          20         10  \n"
     ]
    }
   ],
   "source": [
    "csv_data1 = test_user\n",
    "csv_data1 = change_index(csv_data1, farm_not_rent[0])\n",
    "concate_rows = pd.concat([csv_data1, farm_predict_set], axis = 1)\n",
    "if len(farm_not_rent) > 1:\n",
    "    for rent in farm_not_rent[1:]:\n",
    "        csv_data1 = change_index(csv_data1, rent)\n",
    "        concate_rows.append(pd.concat([csv_data1, farm_predict_set], axis = 1))\n",
    "        predict_set.append(concate_rows)\n",
    "print(concate_rows)"
   ]
  },
  {
   "cell_type": "code",
   "execution_count": 29,
   "metadata": {},
   "outputs": [],
   "source": [
    "csv_data1 = preprocessing_location(concate_rows)\n",
    "location_dictionary = aggregate_location(csv_data1, 'location')\n",
    "community1, csv_data1 = aggregate_data(csv_data1, 'community_id')\n",
    "comment_product1, csv_data1 = aggregate_data(csv_data1, 'comment_products')\n",
    "farm_product1, csv_data1 = aggregate_data(csv_data1, 'suited_product')\n",
    "medals1, csv_data1 = aggregate_data(csv_data1, 'carbon_medals')"
   ]
  },
  {
   "cell_type": "code",
   "execution_count": 30,
   "metadata": {
    "scrolled": true
   },
   "outputs": [
    {
     "name": "stdout",
     "output_type": "stream",
     "text": [
      "  community_id location carbon_credit carbon_medals comment_products  \\\n",
      "1        c1/c2       NY           589         m1/m2               p1   \n",
      "\n",
      "  farm_location suited_product  rent_period  total_area  idle_area  \n",
      "1            NY       cucumber          182          20         10  \n"
     ]
    }
   ],
   "source": [
    "print(csv_data1)"
   ]
  },
  {
   "cell_type": "code",
   "execution_count": 31,
   "metadata": {},
   "outputs": [],
   "source": [
    "csv_data1 = preprocess_data(csv_data1, community, medals, comment_product)"
   ]
  },
  {
   "cell_type": "code",
   "execution_count": 168,
   "metadata": {},
   "outputs": [
    {
     "name": "stdout",
     "output_type": "stream",
     "text": [
      "[[0.9972397  0.00276029]]\n"
     ]
    }
   ],
   "source": [
    "prediction = model.predict_proba(csv_data1)"
   ]
  },
  {
   "cell_type": "code",
   "execution_count": 170,
   "metadata": {},
   "outputs": [],
   "source": [
    "def sort_farm(prediction, farm_not_rent):\n",
    "    farm_score = {}\n",
    "    for i in range(0, len(prediction)):\n",
    "        pred_score = prediction[i]\n",
    "        if pred_score[1] > pred_score[0]:\n",
    "            farm_score[farm_not_rent[i]] = pred_score[1]\n",
    "    sorted_farm_score = [key for key, value in sorted(farm_score.items(), key=lambda i: i[1], reverse=True)]\n",
    "    return sorted_farm_score"
   ]
  },
  {
   "cell_type": "code",
   "execution_count": 180,
   "metadata": {},
   "outputs": [
    {
     "name": "stdout",
     "output_type": "stream",
     "text": [
      "[]\n"
     ]
    }
   ],
   "source": [
    "sorted_farm_score = sort_farm(prediction, farm_not_rent)"
   ]
  },
  {
   "cell_type": "code",
   "execution_count": null,
   "metadata": {},
   "outputs": [],
   "source": [
    "def farm_recommendation(sorted_farm_score):\n",
    "    count = 0\n",
    "    recommended_farm = []\n",
    "    for farm in sorted_farm_score:\n",
    "        if count < 2:\n",
    "            recommended_farm.append(farm_id_index[farm])\n",
    "            count += 1\n",
    "    return recommended_farm"
   ]
  },
  {
   "cell_type": "code",
   "execution_count": null,
   "metadata": {},
   "outputs": [],
   "source": [
    "def feature():\n",
    "    im=pd.DataFrame({'importance':model.feature_importances_})\n",
    "    im=im.sort_values(by='importance',ascending=False)\n",
    "    feature_index = im.index[0:3]\n",
    "    # print(feature_index)\n",
    "    features = [X_train.columns[x] for x in feature_index]\n",
    "    return features"
   ]
  }
 ],
 "metadata": {
  "kernelspec": {
   "display_name": "Python 3",
   "language": "python",
   "name": "python3"
  },
  "language_info": {
   "codemirror_mode": {
    "name": "ipython",
    "version": 3
   },
   "file_extension": ".py",
   "mimetype": "text/x-python",
   "name": "python",
   "nbconvert_exporter": "python",
   "pygments_lexer": "ipython3",
   "version": "3.7.0"
  }
 },
 "nbformat": 4,
 "nbformat_minor": 1
}
